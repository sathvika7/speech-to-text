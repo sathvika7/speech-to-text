{
 "cells": [
  {
   "cell_type": "code",
   "execution_count": 1,
   "metadata": {},
   "outputs": [
    {
     "name": "stdout",
     "output_type": "stream",
     "text": [
      "Speak Anything :\n",
      "hey stupid!speak properly\n"
     ]
    }
   ],
   "source": [
    "import speech_recognition as sr #importing library\n",
    "\n",
    "r = sr.Recognizer() #recognize the sound\n",
    "with sr.Microphone() as source:\n",
    "    print(\"Speak Anything :\")\n",
    "    audio = r.listen(source)#it listen the source(sound we make)\n",
    "    try:\n",
    "        text = r.recognize_google(audio)#we use recognize_google to listen the audio\n",
    "        print(\"You said : {}\".format(text))\n",
    "    except:\n",
    "        print(\"hey stupid!speak properly\")"
   ]
  },
  {
   "cell_type": "code",
   "execution_count": 4,
   "metadata": {},
   "outputs": [],
   "source": [
    "from gtts import gTTS #importing libraries\n",
    "tts = gTTS('hello swecha....we are so happy to be here')#giving text\n",
    "speech=gTTS(tts,'en','slow')\n",
    "tts.save('hello.mp3')#saving a file"
   ]
  },
  {
   "cell_type": "code",
   "execution_count": 10,
   "metadata": {},
   "outputs": [
    {
     "data": {
      "text/plain": [
       "1"
      ]
     },
     "execution_count": 10,
     "metadata": {},
     "output_type": "execute_result"
    }
   ],
   "source": [
    "from gtts import gTTS #importing libraries\n",
    "import os\n",
    "s = \"At the touch of love everyone becomes a poet.\"#assigning variables\n",
    "file = \"file.mp3\"\n",
    "tts = gTTS(s, 'en','slow')#converting text to speech\n",
    "tts.save(file)\n",
    "os.system(\"mpg123 \" + file)"
   ]
  },
  {
   "cell_type": "code",
   "execution_count": null,
   "metadata": {},
   "outputs": [],
   "source": []
  }
 ],
 "metadata": {
  "kernelspec": {
   "display_name": "Python 3",
   "language": "python",
   "name": "python3"
  },
  "language_info": {
   "codemirror_mode": {
    "name": "ipython",
    "version": 3
   },
   "file_extension": ".py",
   "mimetype": "text/x-python",
   "name": "python",
   "nbconvert_exporter": "python",
   "pygments_lexer": "ipython3",
   "version": "3.7.3"
  }
 },
 "nbformat": 4,
 "nbformat_minor": 2
}
